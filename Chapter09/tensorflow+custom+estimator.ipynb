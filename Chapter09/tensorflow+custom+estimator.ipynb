{
 "cells": [
  {
   "cell_type": "code",
   "execution_count": 1,
   "metadata": {
    "collapsed": false,
    "deletable": true,
    "editable": true
   },
   "outputs": [
    {
     "name": "stderr",
     "output_type": "stream",
     "text": [
      "/usr/local/envs/py3env/lib/python3.5/site-packages/h5py/__init__.py:36: FutureWarning: Conversion of the second argument of issubdtype from `float` to `np.floating` is deprecated. In future, it will be treated as `np.float64 == np.dtype(float).type`.\n",
      "  from ._conv import register_converters as _register_converters\n"
     ]
    }
   ],
   "source": [
    "import matplotlib.pyplot as plt\n",
    "import tensorflow as tf\n",
    "import numpy as np\n",
    "%matplotlib inline"
   ]
  },
  {
   "cell_type": "code",
   "execution_count": 2,
   "metadata": {
    "collapsed": false,
    "deletable": true,
    "editable": true
   },
   "outputs": [
    {
     "name": "stdout",
     "output_type": "stream",
     "text": [
      "Extracting data/MNIST/train-images-idx3-ubyte.gz\n",
      "Extracting data/MNIST/train-labels-idx1-ubyte.gz\n",
      "Extracting data/MNIST/t10k-images-idx3-ubyte.gz\n",
      "Extracting data/MNIST/t10k-labels-idx1-ubyte.gz\n"
     ]
    }
   ],
   "source": [
    "from tensorflow.examples.tutorials.mnist import input_data\n",
    "data = input_data.read_data_sets('data/MNIST/', one_hot=True)"
   ]
  },
  {
   "cell_type": "code",
   "execution_count": 3,
   "metadata": {
    "collapsed": true,
    "deletable": true,
    "editable": true
   },
   "outputs": [],
   "source": [
    "data.test.cls = np.argmax(data.test.labels, axis=1)\n",
    "data.train.cls = np.argmax(data.train.labels, axis=1)"
   ]
  },
  {
   "cell_type": "code",
   "execution_count": 4,
   "metadata": {
    "collapsed": true,
    "deletable": true,
    "editable": true
   },
   "outputs": [],
   "source": [
    "train_input_fn = tf.estimator.inputs.numpy_input_fn(\n",
    "    x={\"x2\": np.array(data.train.images)},\n",
    "    y=np.array(data.train.cls),\n",
    "    num_epochs=None,\n",
    "    batch_size=1024,\n",
    "    shuffle=True)"
   ]
  },
  {
   "cell_type": "code",
   "execution_count": 5,
   "metadata": {
    "collapsed": false,
    "deletable": true,
    "editable": true
   },
   "outputs": [],
   "source": [
    "test_input_fn = tf.estimator.inputs.numpy_input_fn(\n",
    "    x={\"x2\": np.array(data.test.images)},\n",
    "    y=np.array(data.test.cls),\n",
    "    num_epochs=1,\n",
    "    shuffle=False)"
   ]
  },
  {
   "cell_type": "code",
   "execution_count": 6,
   "metadata": {
    "collapsed": true,
    "deletable": true,
    "editable": true
   },
   "outputs": [],
   "source": [
    "feature_x = tf.feature_column.numeric_column(\"x2\", shape=(784))"
   ]
  },
  {
   "cell_type": "code",
   "execution_count": 7,
   "metadata": {
    "collapsed": false,
    "deletable": true,
    "editable": true
   },
   "outputs": [
    {
     "data": {
      "text/plain": [
       "[_NumericColumn(key='x2', shape=(784,), default_value=None, dtype=tf.float32, normalizer_fn=None)]"
      ]
     },
     "execution_count": 7,
     "metadata": {},
     "output_type": "execute_result"
    }
   ],
   "source": [
    "feature_columns = [feature_x]\n",
    "feature_columns"
   ]
  },
  {
   "cell_type": "code",
   "execution_count": 8,
   "metadata": {
    "collapsed": false,
    "deletable": true,
    "editable": true
   },
   "outputs": [],
   "source": [
    "def model_fn(features, labels, mode, params):\n",
    "  x = features[\"x2\"]\n",
    "  net = tf.layers.dense(inputs=x, name='h1',units=512, activation=tf.nn.relu)\n",
    "  net2 = tf.layers.dense(inputs=net, name='h2',units=256, activation=tf.nn.relu)\n",
    "  net3 = tf.layers.dense(inputs=net2, name='h3',units=128, activation=tf.nn.relu)\n",
    "  net4 = tf.layers.dense(inputs=net3, name='softmax',units=10,activation=tf.nn.softmax)\n",
    "  \n",
    "  y_pred_cls = tf.argmax(net4, axis=1)\n",
    "  \n",
    "  if mode == tf.estimator.ModeKeys.PREDICT:\n",
    "    spec = tf.estimator.EstimatorSpec(mode=mode,predictions=y_pred_cls)\n",
    "    \n",
    "  else:\n",
    "    cross_entropy = tf.nn.sparse_softmax_cross_entropy_with_logits(labels=labels,logits = net4)\n",
    "    loss = tf.reduce_mean(cross_entropy)\n",
    "    optimizer = tf.train.ProximalAdagradOptimizer(learning_rate=params[\"learning_rate\"],l1_regularization_strength=0.001)\n",
    "    train_op = optimizer.minimize(loss=loss, global_step=tf.train.get_global_step())\n",
    "    accuracy = tf.metrics.accuracy(labels, y_pred_cls)\n",
    "    metrics = {'accuracy': accuracy}\n",
    "    tf.summary.scalar('train_accuracy', accuracy[1])\n",
    "    \n",
    "    tf.summary.histogram(\"hidden1\",net)\n",
    "    tf.summary.histogram(\"hidden2\",net2)\n",
    "    tf.summary.histogram(\"hidden3\",net3)\n",
    "    \n",
    "    spec = tf.estimator.EstimatorSpec(mode=mode,loss=loss,train_op=train_op,eval_metric_ops=metrics)\n",
    "    \n",
    "  return spec"
   ]
  },
  {
   "cell_type": "code",
   "execution_count": 9,
   "metadata": {
    "collapsed": false,
    "deletable": true,
    "editable": true
   },
   "outputs": [
    {
     "name": "stdout",
     "output_type": "stream",
     "text": [
      "INFO:tensorflow:Using default config.\n",
      "INFO:tensorflow:Using config: {'_cluster_spec': <tensorflow.python.training.server_lib.ClusterSpec object at 0x7fc90a5a0da0>, '_keep_checkpoint_every_n_hours': 10000, '_model_dir': '/content/datalab/docs/log10/', '_log_step_count_steps': 100, '_num_worker_replicas': 1, '_session_config': None, '_tf_random_seed': None, '_num_ps_replicas': 0, '_save_checkpoints_steps': None, '_task_type': 'worker', '_master': '', '_is_chief': True, '_keep_checkpoint_max': 5, '_save_summary_steps': 100, '_save_checkpoints_secs': 600, '_service': None, '_task_id': 0}\n"
     ]
    }
   ],
   "source": [
    "params = {\"learning_rate\": 0.1}\n",
    "model = tf.estimator.Estimator(model_fn=model_fn,\n",
    "                               params=params,model_dir='/content/datalab/docs/log10/')"
   ]
  },
  {
   "cell_type": "code",
   "execution_count": 10,
   "metadata": {
    "collapsed": false,
    "deletable": true,
    "editable": true
   },
   "outputs": [
    {
     "name": "stdout",
     "output_type": "stream",
     "text": [
      "INFO:tensorflow:Create CheckpointSaverHook.\n",
      "INFO:tensorflow:Restoring parameters from /content/datalab/docs/log10/model.ckpt-1000\n",
      "INFO:tensorflow:Saving checkpoints for 1001 into /content/datalab/docs/log10/model.ckpt.\n",
      "INFO:tensorflow:loss = 1.7860029, step = 1001\n",
      "INFO:tensorflow:global_step/sec: 6.16214\n",
      "INFO:tensorflow:loss = 1.7354205, step = 1101 (16.240 sec)\n",
      "INFO:tensorflow:global_step/sec: 6.01177\n",
      "INFO:tensorflow:loss = 1.7407854, step = 1201 (16.628 sec)\n",
      "INFO:tensorflow:global_step/sec: 6.17282\n",
      "INFO:tensorflow:loss = 1.7134619, step = 1301 (16.200 sec)\n",
      "INFO:tensorflow:global_step/sec: 6.10859\n",
      "INFO:tensorflow:loss = 1.6671824, step = 1401 (16.371 sec)\n",
      "INFO:tensorflow:global_step/sec: 6.0716\n",
      "INFO:tensorflow:loss = 1.7077456, step = 1501 (16.470 sec)\n",
      "INFO:tensorflow:global_step/sec: 6.13853\n",
      "INFO:tensorflow:loss = 1.7067506, step = 1601 (16.290 sec)\n",
      "INFO:tensorflow:global_step/sec: 6.16104\n",
      "INFO:tensorflow:loss = 1.7213932, step = 1701 (16.232 sec)\n",
      "INFO:tensorflow:global_step/sec: 6.10488\n",
      "INFO:tensorflow:loss = 1.7033472, step = 1801 (16.380 sec)\n",
      "INFO:tensorflow:global_step/sec: 6.1573\n",
      "INFO:tensorflow:loss = 1.6951039, step = 1901 (16.241 sec)\n",
      "INFO:tensorflow:Saving checkpoints for 2000 into /content/datalab/docs/log10/model.ckpt.\n",
      "INFO:tensorflow:Loss for final step: 1.7054956.\n"
     ]
    },
    {
     "data": {
      "text/plain": [
       "<tensorflow.python.estimator.estimator.Estimator at 0x7fc90a5a0ac8>"
      ]
     },
     "execution_count": 10,
     "metadata": {},
     "output_type": "execute_result"
    }
   ],
   "source": [
    "model.train(input_fn=train_input_fn, steps=1000)"
   ]
  },
  {
   "cell_type": "code",
   "execution_count": 50,
   "metadata": {
    "collapsed": false,
    "deletable": true,
    "editable": true
   },
   "outputs": [],
   "source": [
    "from google.datalab.ml import TensorBoard as tb"
   ]
  },
  {
   "cell_type": "code",
   "execution_count": 51,
   "metadata": {
    "collapsed": false,
    "deletable": true,
    "editable": true
   },
   "outputs": [
    {
     "data": {
      "text/html": [
       "<p>TensorBoard was started successfully with pid 7583. Click <a href=\"/_proxy/41765/\" target=\"_blank\">here</a> to access it.</p>"
      ]
     },
     "metadata": {},
     "output_type": "display_data"
    },
    {
     "data": {
      "text/plain": [
       "7583"
      ]
     },
     "execution_count": 51,
     "metadata": {},
     "output_type": "execute_result"
    }
   ],
   "source": [
    "tb.start('/content/datalab/docs/log10/')"
   ]
  },
  {
   "cell_type": "code",
   "execution_count": null,
   "metadata": {
    "collapsed": true,
    "deletable": true,
    "editable": true
   },
   "outputs": [],
   "source": []
  }
 ],
 "metadata": {
  "kernelspec": {
   "display_name": "Python 3",
   "language": "python",
   "name": "python3"
  },
  "language_info": {
   "codemirror_mode": {
    "name": "ipython",
    "version": 3
   },
   "file_extension": ".py",
   "mimetype": "text/x-python",
   "name": "python",
   "nbconvert_exporter": "python",
   "pygments_lexer": "ipython3",
   "version": "3.5.5"
  }
 },
 "nbformat": 4,
 "nbformat_minor": 2
}
