{
 "cells": [
  {
   "cell_type": "code",
   "execution_count": 1,
   "metadata": {
    "collapsed": true,
    "deletable": true,
    "editable": true
   },
   "outputs": [],
   "source": [
    "import os\n",
    "os.environ[\"GOOGLE_APPLICATION_CREDENTIALS\"] = \"/content/datalab/google-api.json\""
   ]
  },
  {
   "cell_type": "code",
   "execution_count": 2,
   "metadata": {
    "collapsed": true,
    "deletable": true,
    "editable": true
   },
   "outputs": [],
   "source": [
    "from google.cloud import translate"
   ]
  },
  {
   "cell_type": "code",
   "execution_count": 3,
   "metadata": {
    "collapsed": true,
    "deletable": true,
    "editable": true
   },
   "outputs": [],
   "source": [
    "client = translate.Client()"
   ]
  },
  {
   "cell_type": "code",
   "execution_count": 4,
   "metadata": {
    "collapsed": false,
    "deletable": true,
    "editable": true
   },
   "outputs": [
    {
     "data": {
      "text/plain": [
       "[{u'language': u'af', u'name': u'Afrikaans'},\n",
       " {u'language': u'sq', u'name': u'Albanian'},\n",
       " {u'language': u'am', u'name': u'Amharic'},\n",
       " {u'language': u'ar', u'name': u'Arabic'},\n",
       " {u'language': u'hy', u'name': u'Armenian'},\n",
       " {u'language': u'az', u'name': u'Azerbaijani'},\n",
       " {u'language': u'eu', u'name': u'Basque'},\n",
       " {u'language': u'be', u'name': u'Belarusian'},\n",
       " {u'language': u'bn', u'name': u'Bengali'},\n",
       " {u'language': u'bs', u'name': u'Bosnian'},\n",
       " {u'language': u'bg', u'name': u'Bulgarian'},\n",
       " {u'language': u'ca', u'name': u'Catalan'},\n",
       " {u'language': u'ceb', u'name': u'Cebuano'},\n",
       " {u'language': u'ny', u'name': u'Chichewa'},\n",
       " {u'language': u'zh', u'name': u'Chinese (Simplified)'},\n",
       " {u'language': u'zh-TW', u'name': u'Chinese (Traditional)'},\n",
       " {u'language': u'co', u'name': u'Corsican'},\n",
       " {u'language': u'hr', u'name': u'Croatian'},\n",
       " {u'language': u'cs', u'name': u'Czech'},\n",
       " {u'language': u'da', u'name': u'Danish'},\n",
       " {u'language': u'nl', u'name': u'Dutch'},\n",
       " {u'language': u'en', u'name': u'English'},\n",
       " {u'language': u'eo', u'name': u'Esperanto'},\n",
       " {u'language': u'et', u'name': u'Estonian'},\n",
       " {u'language': u'tl', u'name': u'Filipino'},\n",
       " {u'language': u'fi', u'name': u'Finnish'},\n",
       " {u'language': u'fr', u'name': u'French'},\n",
       " {u'language': u'fy', u'name': u'Frisian'},\n",
       " {u'language': u'gl', u'name': u'Galician'},\n",
       " {u'language': u'ka', u'name': u'Georgian'},\n",
       " {u'language': u'de', u'name': u'German'},\n",
       " {u'language': u'el', u'name': u'Greek'},\n",
       " {u'language': u'gu', u'name': u'Gujarati'},\n",
       " {u'language': u'ht', u'name': u'Haitian Creole'},\n",
       " {u'language': u'ha', u'name': u'Hausa'},\n",
       " {u'language': u'haw', u'name': u'Hawaiian'},\n",
       " {u'language': u'iw', u'name': u'Hebrew'},\n",
       " {u'language': u'hi', u'name': u'Hindi'},\n",
       " {u'language': u'hmn', u'name': u'Hmong'},\n",
       " {u'language': u'hu', u'name': u'Hungarian'},\n",
       " {u'language': u'is', u'name': u'Icelandic'},\n",
       " {u'language': u'ig', u'name': u'Igbo'},\n",
       " {u'language': u'id', u'name': u'Indonesian'},\n",
       " {u'language': u'ga', u'name': u'Irish'},\n",
       " {u'language': u'it', u'name': u'Italian'},\n",
       " {u'language': u'ja', u'name': u'Japanese'},\n",
       " {u'language': u'jw', u'name': u'Javanese'},\n",
       " {u'language': u'kn', u'name': u'Kannada'},\n",
       " {u'language': u'kk', u'name': u'Kazakh'},\n",
       " {u'language': u'km', u'name': u'Khmer'},\n",
       " {u'language': u'ko', u'name': u'Korean'},\n",
       " {u'language': u'ku', u'name': u'Kurdish (Kurmanji)'},\n",
       " {u'language': u'ky', u'name': u'Kyrgyz'},\n",
       " {u'language': u'lo', u'name': u'Lao'},\n",
       " {u'language': u'la', u'name': u'Latin'},\n",
       " {u'language': u'lv', u'name': u'Latvian'},\n",
       " {u'language': u'lt', u'name': u'Lithuanian'},\n",
       " {u'language': u'lb', u'name': u'Luxembourgish'},\n",
       " {u'language': u'mk', u'name': u'Macedonian'},\n",
       " {u'language': u'mg', u'name': u'Malagasy'},\n",
       " {u'language': u'ms', u'name': u'Malay'},\n",
       " {u'language': u'ml', u'name': u'Malayalam'},\n",
       " {u'language': u'mt', u'name': u'Maltese'},\n",
       " {u'language': u'mi', u'name': u'Maori'},\n",
       " {u'language': u'mr', u'name': u'Marathi'},\n",
       " {u'language': u'mn', u'name': u'Mongolian'},\n",
       " {u'language': u'my', u'name': u'Myanmar (Burmese)'},\n",
       " {u'language': u'ne', u'name': u'Nepali'},\n",
       " {u'language': u'no', u'name': u'Norwegian'},\n",
       " {u'language': u'ps', u'name': u'Pashto'},\n",
       " {u'language': u'fa', u'name': u'Persian'},\n",
       " {u'language': u'pl', u'name': u'Polish'},\n",
       " {u'language': u'pt', u'name': u'Portuguese'},\n",
       " {u'language': u'pa', u'name': u'Punjabi'},\n",
       " {u'language': u'ro', u'name': u'Romanian'},\n",
       " {u'language': u'ru', u'name': u'Russian'},\n",
       " {u'language': u'sm', u'name': u'Samoan'},\n",
       " {u'language': u'gd', u'name': u'Scots Gaelic'},\n",
       " {u'language': u'sr', u'name': u'Serbian'},\n",
       " {u'language': u'st', u'name': u'Sesotho'},\n",
       " {u'language': u'sn', u'name': u'Shona'},\n",
       " {u'language': u'sd', u'name': u'Sindhi'},\n",
       " {u'language': u'si', u'name': u'Sinhala'},\n",
       " {u'language': u'sk', u'name': u'Slovak'},\n",
       " {u'language': u'sl', u'name': u'Slovenian'},\n",
       " {u'language': u'so', u'name': u'Somali'},\n",
       " {u'language': u'es', u'name': u'Spanish'},\n",
       " {u'language': u'su', u'name': u'Sundanese'},\n",
       " {u'language': u'sw', u'name': u'Swahili'},\n",
       " {u'language': u'sv', u'name': u'Swedish'},\n",
       " {u'language': u'tg', u'name': u'Tajik'},\n",
       " {u'language': u'ta', u'name': u'Tamil'},\n",
       " {u'language': u'te', u'name': u'Telugu'},\n",
       " {u'language': u'th', u'name': u'Thai'},\n",
       " {u'language': u'tr', u'name': u'Turkish'},\n",
       " {u'language': u'uk', u'name': u'Ukrainian'},\n",
       " {u'language': u'ur', u'name': u'Urdu'},\n",
       " {u'language': u'uz', u'name': u'Uzbek'},\n",
       " {u'language': u'vi', u'name': u'Vietnamese'},\n",
       " {u'language': u'cy', u'name': u'Welsh'},\n",
       " {u'language': u'xh', u'name': u'Xhosa'},\n",
       " {u'language': u'yi', u'name': u'Yiddish'},\n",
       " {u'language': u'yo', u'name': u'Yoruba'},\n",
       " {u'language': u'zu', u'name': u'Zulu'}]"
      ]
     },
     "execution_count": 4,
     "metadata": {},
     "output_type": "execute_result"
    }
   ],
   "source": [
    "client.get_languages()"
   ]
  },
  {
   "cell_type": "code",
   "execution_count": 5,
   "metadata": {
    "collapsed": false,
    "deletable": true,
    "editable": true
   },
   "outputs": [
    {
     "data": {
      "text/plain": [
       "[{u'confidence': 1, 'input': 'Me llamo', u'language': u'es'},\n",
       " {u'confidence': 1, 'input': 'I am', u'language': u'en'}]"
      ]
     },
     "execution_count": 5,
     "metadata": {},
     "output_type": "execute_result"
    }
   ],
   "source": [
    "client.detect_language(['Me llamo', 'I am'])"
   ]
  },
  {
   "cell_type": "code",
   "execution_count": 6,
   "metadata": {
    "collapsed": false,
    "deletable": true,
    "editable": true
   },
   "outputs": [
    {
     "data": {
      "text/plain": [
       "{u'detectedSourceLanguage': u'pl',\n",
       " 'input': 'koszula',\n",
       " u'translatedText': u'shirt'}"
      ]
     },
     "execution_count": 6,
     "metadata": {},
     "output_type": "execute_result"
    }
   ],
   "source": [
    "client.translate('koszula')"
   ]
  },
  {
   "cell_type": "code",
   "execution_count": 7,
   "metadata": {
    "collapsed": false,
    "deletable": true,
    "editable": true
   },
   "outputs": [
    {
     "data": {
      "text/plain": [
       "[{u'detectedSourceLanguage': u'es',\n",
       "  'input': 'Me llamo Kishore',\n",
       "  u'translatedText': u'Mein Name ist Kishore'},\n",
       " {u'detectedSourceLanguage': u'en',\n",
       "  'input': 'My name is Kishore',\n",
       "  u'translatedText': u'Mein Name ist Kishore'}]"
      ]
     },
     "execution_count": 7,
     "metadata": {},
     "output_type": "execute_result"
    }
   ],
   "source": [
    "client.translate(['Me llamo Kishore', 'My name is Kishore'],target_language='de')"
   ]
  },
  {
   "cell_type": "code",
   "execution_count": null,
   "metadata": {
    "collapsed": true,
    "deletable": true,
    "editable": true
   },
   "outputs": [],
   "source": []
  }
 ],
 "metadata": {
  "kernelspec": {
   "display_name": "Python 2",
   "language": "python",
   "name": "python2"
  },
  "language_info": {
   "codemirror_mode": {
    "name": "ipython",
    "version": 2
   },
   "file_extension": ".py",
   "mimetype": "text/x-python",
   "name": "python",
   "nbconvert_exporter": "python",
   "pygments_lexer": "ipython2",
   "version": "2.7.14"
  }
 },
 "nbformat": 4,
 "nbformat_minor": 2
}
