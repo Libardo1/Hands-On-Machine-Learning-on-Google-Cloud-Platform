{
 "cells": [
  {
   "cell_type": "code",
   "execution_count": 2,
   "metadata": {
    "collapsed": false
   },
   "outputs": [
    {
     "name": "stderr",
     "output_type": "stream",
     "text": [
      "mkdir: cannot create directory ‘data2’: File exists\n",
      "  % Total    % Received % Xferd  Average Speed   Time    Time     Time  Current\n",
      "                                 Dload  Upload   Total   Spent    Left  Speed\n",
      "\r",
      "  0     0    0     0    0     0      0      0 --:--:-- --:--:-- --:--:--     0\r",
      "  0     0    0     0    0     0      0      0 --:--:-- --:--:-- --:--:--     0\r",
      "  3 14.5M    3  525k    0     0   394k      0  0:00:37  0:00:01  0:00:36  394k\r",
      " 21 14.5M   21 3279k    0     0  1406k      0  0:00:10  0:00:02  0:00:08 1405k\r",
      " 88 14.5M   88 12.8M    0     0  3952k      0  0:00:03  0:00:03 --:--:-- 3951k\r",
      "100 14.5M  100 14.5M    0     0  4399k      0  0:00:03  0:00:03 --:--:-- 4398k\n",
      "gzip: mnist.pkl already exists;\tnot overwritten\n"
     ]
    }
   ],
   "source": [
    "%bash\n",
    "mkdir data2\n",
    "curl -O https://s3.amazonaws.com/img-datasets/mnist.pkl.gz\n",
    "gzip -d mnist.pkl.gz\n",
    "mv mnist.pkl data2/"
   ]
  },
  {
   "cell_type": "code",
   "execution_count": 3,
   "metadata": {
    "collapsed": false
   },
   "outputs": [
    {
     "name": "stderr",
     "output_type": "stream",
     "text": [
      "/usr/local/envs/py2env/lib/python2.7/site-packages/h5py/__init__.py:36: FutureWarning: Conversion of the second argument of issubdtype from `float` to `np.floating` is deprecated. In future, it will be treated as `np.float64 == np.dtype(float).type`.\n",
      "  from ._conv import register_converters as _register_converters\n"
     ]
    },
    {
     "name": "stdout",
     "output_type": "stream",
     "text": [
      "1.5.0\n"
     ]
    }
   ],
   "source": [
    "from __future__ import print_function\n",
    "\n",
    "import argparse\n",
    "import pickle # for handling the new data source\n",
    "from datetime import datetime # for filename conventions\n",
    "import numpy as np\n",
    "from tensorflow.python.lib.io import file_io # for better file I/O\n",
    "import sys\n",
    "import tensorflow as tf\n",
    "print(tf.__version__)"
   ]
  },
  {
   "cell_type": "code",
   "execution_count": 8,
   "metadata": {
    "collapsed": false
   },
   "outputs": [],
   "source": [
    "f = file_io.FileIO('data2/mnist.pkl', mode='r')"
   ]
  },
  {
   "cell_type": "code",
   "execution_count": 9,
   "metadata": {
    "collapsed": true
   },
   "outputs": [],
   "source": [
    "data=pickle.load(f)"
   ]
  },
  {
   "cell_type": "code",
   "execution_count": null,
   "metadata": {
    "collapsed": true
   },
   "outputs": [],
   "source": [
    "(x_train, y_train), (x_test, y_test) = data\n",
    "x_train = x_train.reshape(60000, 784)\n",
    "x_test = x_test.reshape(10000, 784)\n",
    "y_train = y_train.astype(np.int32)\n",
    "y_test = y_test.astype(np.int32)\n",
    "train_input_fn = tf.estimator.inputs.numpy_input_fn(\n",
    "    x={\"x2\": np.array(x_train)},\n",
    "    y=np.array(y_train),\n",
    "    num_epochs=None,\n",
    "    batch_size=1024,\n",
    "    shuffle=True)\n",
    "test_input_fn = tf.estimator.inputs.numpy_input_fn(\n",
    "    x={\"x2\": np.array(x_test)},\n",
    "    y=np.array(y_test),\n",
    "    num_epochs=1,\n",
    "    shuffle=False)\n",
    "feature_x = tf.feature_column.numeric_column(\"x2\", shape=(784))\n",
    "feature_columns = [feature_x]\n",
    "num_hidden_units = [1000]\n",
    "model = tf.estimator.DNNClassifier(feature_columns=feature_columns,\n",
    "                               hidden_units=num_hidden_units,\n",
    "                               activation_fn=tf.nn.relu,\n",
    "                               n_classes=num_classes,\n",
    "                               optimizer=tf.train.AdagradOptimizer(learning_rate = 0.1))\n",
    "model.train(input_fn=train_input_fn, steps=200)"
   ]
  },
  {
   "cell_type": "code",
   "execution_count": null,
   "metadata": {
    "collapsed": true
   },
   "outputs": [],
   "source": [
    "result = model.evaluate(input_fn=test_input_fn)\n",
    "print('Test loss:', result['average_loss'])\n",
    "print('Test accuracy:', result['accuracy'])"
   ]
  },
  {
   "cell_type": "code",
   "execution_count": null,
   "metadata": {
    "collapsed": true
   },
   "outputs": [],
   "source": [
    "model = tf.estimator.DNNClassifier(feature_columns=feature_columns,\n",
    "                               hidden_units=num_hidden_units,\n",
    "                               activation_fn=tf.nn.relu,\n",
    "                               n_classes=num_classes,\n",
    "                               optimizer=tf.train.AdagradOptimizer(learning_rate = 0.01))\n",
    "model.train(input_fn=train_input_fn, steps=2000)"
   ]
  },
  {
   "cell_type": "code",
   "execution_count": null,
   "metadata": {
    "collapsed": true
   },
   "outputs": [],
   "source": [
    "result = model.evaluate(input_fn=test_input_fn)\n",
    "print('Test loss:', result['average_loss'])\n",
    "print('Test accuracy:', result['accuracy'])"
   ]
  }
 ],
 "metadata": {
  "kernelspec": {
   "display_name": "Python 2",
   "language": "python",
   "name": "python2"
  },
  "language_info": {
   "codemirror_mode": {
    "name": "ipython",
    "version": 2
   },
   "file_extension": ".py",
   "mimetype": "text/x-python",
   "name": "python",
   "nbconvert_exporter": "python",
   "pygments_lexer": "ipython2",
   "version": "2.7.14"
  }
 },
 "nbformat": 4,
 "nbformat_minor": 2
}
